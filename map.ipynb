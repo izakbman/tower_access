{
 "cells": [
  {
   "cell_type": "code",
   "execution_count": 2,
   "metadata": {},
   "outputs": [],
   "source": [
    "import geopandas as gpd "
   ]
  },
  {
   "cell_type": "code",
   "execution_count": 6,
   "metadata": {},
   "outputs": [
    {
     "data": {
      "text/html": [
       "<div>\n",
       "<style scoped>\n",
       "    .dataframe tbody tr th:only-of-type {\n",
       "        vertical-align: middle;\n",
       "    }\n",
       "\n",
       "    .dataframe tbody tr th {\n",
       "        vertical-align: top;\n",
       "    }\n",
       "\n",
       "    .dataframe thead th {\n",
       "        text-align: right;\n",
       "    }\n",
       "</style>\n",
       "<table border=\"1\" class=\"dataframe\">\n",
       "  <thead>\n",
       "    <tr style=\"text-align: right;\">\n",
       "      <th></th>\n",
       "      <th>featurecla</th>\n",
       "      <th>scalerank</th>\n",
       "      <th>adm1_code</th>\n",
       "      <th>diss_me</th>\n",
       "      <th>iso_3166_2</th>\n",
       "      <th>wikipedia</th>\n",
       "      <th>iso_a2</th>\n",
       "      <th>adm0_sr</th>\n",
       "      <th>name</th>\n",
       "      <th>name_alt</th>\n",
       "      <th>...</th>\n",
       "      <th>FCLASS_ID</th>\n",
       "      <th>FCLASS_PL</th>\n",
       "      <th>FCLASS_GR</th>\n",
       "      <th>FCLASS_IT</th>\n",
       "      <th>FCLASS_NL</th>\n",
       "      <th>FCLASS_SE</th>\n",
       "      <th>FCLASS_BD</th>\n",
       "      <th>FCLASS_UA</th>\n",
       "      <th>FCLASS_TLC</th>\n",
       "      <th>geometry</th>\n",
       "    </tr>\n",
       "  </thead>\n",
       "  <tbody>\n",
       "    <tr>\n",
       "      <th>0</th>\n",
       "      <td>Admin-1 states provinces</td>\n",
       "      <td>3</td>\n",
       "      <td>ARG-1309</td>\n",
       "      <td>1309</td>\n",
       "      <td>AR-E</td>\n",
       "      <td>None</td>\n",
       "      <td>AR</td>\n",
       "      <td>1</td>\n",
       "      <td>Entre Ríos</td>\n",
       "      <td>Entre-Rios</td>\n",
       "      <td>...</td>\n",
       "      <td>None</td>\n",
       "      <td>None</td>\n",
       "      <td>None</td>\n",
       "      <td>None</td>\n",
       "      <td>None</td>\n",
       "      <td>None</td>\n",
       "      <td>None</td>\n",
       "      <td>None</td>\n",
       "      <td>None</td>\n",
       "      <td>POLYGON ((-58.20011 -32.44713, -58.20012 -32.4...</td>\n",
       "    </tr>\n",
       "    <tr>\n",
       "      <th>1</th>\n",
       "      <td>Admin-1 states provinces</td>\n",
       "      <td>6</td>\n",
       "      <td>URY-8</td>\n",
       "      <td>8</td>\n",
       "      <td>UY-PA</td>\n",
       "      <td>None</td>\n",
       "      <td>UY</td>\n",
       "      <td>1</td>\n",
       "      <td>Paysandú</td>\n",
       "      <td>None</td>\n",
       "      <td>...</td>\n",
       "      <td>None</td>\n",
       "      <td>None</td>\n",
       "      <td>None</td>\n",
       "      <td>None</td>\n",
       "      <td>None</td>\n",
       "      <td>None</td>\n",
       "      <td>None</td>\n",
       "      <td>None</td>\n",
       "      <td>None</td>\n",
       "      <td>POLYGON ((-58.20012 -32.44720, -58.20011 -32.4...</td>\n",
       "    </tr>\n",
       "    <tr>\n",
       "      <th>2</th>\n",
       "      <td>Admin-1 states provinces</td>\n",
       "      <td>2</td>\n",
       "      <td>IDN-1185</td>\n",
       "      <td>1185</td>\n",
       "      <td>ID-KI</td>\n",
       "      <td>None</td>\n",
       "      <td>ID</td>\n",
       "      <td>5</td>\n",
       "      <td>Kalimantan Timur</td>\n",
       "      <td>Kaltim</td>\n",
       "      <td>...</td>\n",
       "      <td>None</td>\n",
       "      <td>None</td>\n",
       "      <td>None</td>\n",
       "      <td>None</td>\n",
       "      <td>None</td>\n",
       "      <td>None</td>\n",
       "      <td>None</td>\n",
       "      <td>None</td>\n",
       "      <td>None</td>\n",
       "      <td>MULTIPOLYGON (((117.70361 4.16341, 117.70361 4...</td>\n",
       "    </tr>\n",
       "    <tr>\n",
       "      <th>3</th>\n",
       "      <td>Admin-1 states provinces</td>\n",
       "      <td>6</td>\n",
       "      <td>MYS-1186</td>\n",
       "      <td>1186</td>\n",
       "      <td>MY-12</td>\n",
       "      <td>None</td>\n",
       "      <td>MY</td>\n",
       "      <td>5</td>\n",
       "      <td>Sabah</td>\n",
       "      <td>North Borneo</td>\n",
       "      <td>...</td>\n",
       "      <td>None</td>\n",
       "      <td>None</td>\n",
       "      <td>None</td>\n",
       "      <td>None</td>\n",
       "      <td>None</td>\n",
       "      <td>None</td>\n",
       "      <td>None</td>\n",
       "      <td>None</td>\n",
       "      <td>None</td>\n",
       "      <td>MULTIPOLYGON (((117.70361 4.16341, 117.70361 4...</td>\n",
       "    </tr>\n",
       "    <tr>\n",
       "      <th>4</th>\n",
       "      <td>Admin-1 states provinces</td>\n",
       "      <td>3</td>\n",
       "      <td>CHL-2694</td>\n",
       "      <td>2694</td>\n",
       "      <td>CL-AP</td>\n",
       "      <td>None</td>\n",
       "      <td>CL</td>\n",
       "      <td>1</td>\n",
       "      <td>Arica y Parinacota</td>\n",
       "      <td>None</td>\n",
       "      <td>...</td>\n",
       "      <td>None</td>\n",
       "      <td>None</td>\n",
       "      <td>None</td>\n",
       "      <td>None</td>\n",
       "      <td>None</td>\n",
       "      <td>None</td>\n",
       "      <td>None</td>\n",
       "      <td>None</td>\n",
       "      <td>None</td>\n",
       "      <td>POLYGON ((-69.51009 -17.50659, -69.50611 -17.5...</td>\n",
       "    </tr>\n",
       "  </tbody>\n",
       "</table>\n",
       "<p>5 rows × 122 columns</p>\n",
       "</div>"
      ],
      "text/plain": [
       "                 featurecla  scalerank adm1_code  diss_me iso_3166_2  \\\n",
       "0  Admin-1 states provinces          3  ARG-1309     1309       AR-E   \n",
       "1  Admin-1 states provinces          6     URY-8        8      UY-PA   \n",
       "2  Admin-1 states provinces          2  IDN-1185     1185      ID-KI   \n",
       "3  Admin-1 states provinces          6  MYS-1186     1186      MY-12   \n",
       "4  Admin-1 states provinces          3  CHL-2694     2694      CL-AP   \n",
       "\n",
       "  wikipedia iso_a2  adm0_sr                name      name_alt  ... FCLASS_ID  \\\n",
       "0      None     AR        1          Entre Ríos    Entre-Rios  ...      None   \n",
       "1      None     UY        1            Paysandú          None  ...      None   \n",
       "2      None     ID        5    Kalimantan Timur        Kaltim  ...      None   \n",
       "3      None     MY        5               Sabah  North Borneo  ...      None   \n",
       "4      None     CL        1  Arica y Parinacota          None  ...      None   \n",
       "\n",
       "  FCLASS_PL FCLASS_GR FCLASS_IT FCLASS_NL FCLASS_SE FCLASS_BD FCLASS_UA  \\\n",
       "0      None      None      None      None      None      None      None   \n",
       "1      None      None      None      None      None      None      None   \n",
       "2      None      None      None      None      None      None      None   \n",
       "3      None      None      None      None      None      None      None   \n",
       "4      None      None      None      None      None      None      None   \n",
       "\n",
       "  FCLASS_TLC                                           geometry  \n",
       "0       None  POLYGON ((-58.20011 -32.44713, -58.20012 -32.4...  \n",
       "1       None  POLYGON ((-58.20012 -32.44720, -58.20011 -32.4...  \n",
       "2       None  MULTIPOLYGON (((117.70361 4.16341, 117.70361 4...  \n",
       "3       None  MULTIPOLYGON (((117.70361 4.16341, 117.70361 4...  \n",
       "4       None  POLYGON ((-69.51009 -17.50659, -69.50611 -17.5...  \n",
       "\n",
       "[5 rows x 122 columns]"
      ]
     },
     "execution_count": 6,
     "metadata": {},
     "output_type": "execute_result"
    }
   ],
   "source": [
    "bounds = gpd.read_file('data/ne_10m_admin_1_states_provinces/ne_10m_admin_1_states_provinces.shp')"
   ]
  },
  {
   "cell_type": "code",
   "execution_count": 9,
   "metadata": {},
   "outputs": [
    {
     "data": {
      "text/plain": [
       "<AxesSubplot: >"
      ]
     },
     "execution_count": 9,
     "metadata": {},
     "output_type": "execute_result"
    },
    {
     "data": {
      "image/png": "[encoded data removed]",
      "text/plain": [
       "<Figure size 640x480 with 1 Axes>"
      ]
     },
     "metadata": {},
     "output_type": "display_data"
    }
   ],
   "source": [
    "oregon = bounds[bounds['name'] == 'Oregon']\n",
    "oregon.head()\n",
    "oregon.plot()\n"
   ]
  },
  {
   "cell_type": "code",
   "execution_count": 19,
   "metadata": {},
   "outputs": [
    {
     "data": {
      "text/plain": [
       "<Geographic 2D CRS: EPSG:4326>\n",
       "Name: WGS 84\n",
       "Axis Info [ellipsoidal]:\n",
       "- Lat[north]: Geodetic latitude (degree)\n",
       "- Lon[east]: Geodetic longitude (degree)\n",
       "Area of Use:\n",
       "- name: World.\n",
       "- bounds: (-180.0, -90.0, 180.0, 90.0)\n",
       "Datum: World Geodetic System 1984 ensemble\n",
       "- Ellipsoid: WGS 84\n",
       "- Prime Meridian: Greenwich"
      ]
     },
     "execution_count": 19,
     "metadata": {},
     "output_type": "execute_result"
    }
   ],
   "source": [
    "oregon.crs"
   ]
  },
  {
   "cell_type": "code",
   "execution_count": 23,
   "metadata": {},
   "outputs": [],
   "source": [
    "#add lookouts to map \n",
    "fire_lookouts_points = gpd.read_file('data/fire_lookouts.csv')"
   ]
  },
  {
   "cell_type": "code",
   "execution_count": 40,
   "metadata": {},
   "outputs": [
    {
     "data": {
      "text/plain": [
       "<AxesSubplot: >"
      ]
     },
     "execution_count": 40,
     "metadata": {},
     "output_type": "execute_result"
    },
    {
     "data": {
      "image/png": "[encoded data removed]",
      "text/plain": [
       "<Figure size 640x480 with 1 Axes>"
      ]
     },
     "metadata": {},
     "output_type": "display_data"
    }
   ],
   "source": [
    "from shapely.geometry import Point\n",
    "\n",
    "fire_lookouts = gpd.GeoDataFrame(fire_lookouts_points, geometry=[Point(xy) for xy in zip(fire_lookouts_points['X'], fire_lookouts_points['Y'])])\n",
    "fire_lookouts.crs = \"EPSG:4326\"\n",
    "\n",
    "ax = oregon.plot()\n",
    "\n",
    "# Plot the points\n",
    "fire_lookouts.plot(ax=ax, marker ='x', color='black', markersize=10)\n"
   ]
  },
  {
   "cell_type": "code",
   "execution_count": null,
   "metadata": {},
   "outputs": [],
   "source": []
  }
 ],
 "metadata": {
  "kernelspec": {
   "display_name": "Python 3",
   "language": "python",
   "name": "python3"
  },
  "language_info": {
   "codemirror_mode": {
    "name": "ipython",
    "version": 3
   },
   "file_extension": ".py",
   "mimetype": "text/x-python",
   "name": "python",
   "nbconvert_exporter": "python",
   "pygments_lexer": "ipython3",
   "version": "3.10.4"
  }
 },
 "nbformat": 4,
 "nbformat_minor": 2
}
